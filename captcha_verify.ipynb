{
 "cells": [
  {
   "cell_type": "markdown",
   "id": "22992bf9",
   "metadata": {},
   "source": [
    "# Import Package"
   ]
  },
  {
   "cell_type": "code",
   "execution_count": 159,
   "id": "5b453b9d",
   "metadata": {
    "ExecuteTime": {
     "end_time": "2023-03-14T01:02:52.043988Z",
     "start_time": "2023-03-14T01:02:52.024697Z"
    }
   },
   "outputs": [],
   "source": [
    "# Numerical Operations\n",
    "import random\n",
    "import math\n",
    "import numpy as np\n",
    "\n",
    "# Reading/Writting Data\n",
    "import pandas as pd\n",
    "import os\n",
    "import cv2\n",
    "\n",
    "# For Pragress Bar\n",
    "from tqdm import tqdm\n",
    "\n",
    "# Pytorch\n",
    "import torch\n",
    "import torch.nn as nn\n",
    "from torch.utils.data import Dataset, DataLoader, random_split\n",
    "import torch.nn.functional as F\n",
    "from torchsummary import summary\n",
    "\n",
    "\n",
    "# For plotting learning curve\n",
    "from torch.utils.tensorboard import SummaryWriter\n",
    "import matplotlib.pyplot as plt\n",
    "\n",
    "# For spiliting the data to train and test\n",
    "from sklearn.model_selection import train_test_split"
   ]
  },
  {
   "cell_type": "markdown",
   "id": "f5c6390d",
   "metadata": {},
   "source": [
    "# Config"
   ]
  },
  {
   "cell_type": "code",
   "execution_count": 119,
   "id": "e7d16b33",
   "metadata": {
    "ExecuteTime": {
     "end_time": "2023-03-13T15:56:25.720287Z",
     "start_time": "2023-03-13T15:56:25.711010Z"
    }
   },
   "outputs": [],
   "source": [
    "device = 'cuda' if torch.cuda.is_available() else 'cpu'\n",
    "config = {\n",
    "    'seed': 1314520,      # Your seed number, you can pick your lucky number. :)\n",
    "    'select_all': True,   # Whether to use all features.\n",
    "    'valid_ratio': 0.2,   # validation_size = train_size * valid_ratio\n",
    "    'n_epochs': 200,     # Number of epochs.            \n",
    "    'batch_size': 50, \n",
    "    'learning_rate': 0.001,              \n",
    "    'early_stop': 10,    # If model has not improved for this many consecutive epochs, stop training.     \n",
    "    'save_path': './model/model.ckpt',  # Your model will be saved here.\n",
    "    'raw_img_path': './raw_images',\n",
    "    'processed_img_path': './processed_images',\n",
    "    'labels': 'labels.csv'\n",
    "}"
   ]
  },
  {
   "cell_type": "markdown",
   "id": "f07f2cad",
   "metadata": {},
   "source": [
    "# Some Utility Function"
   ]
  },
  {
   "cell_type": "code",
   "execution_count": 120,
   "id": "ba8ffd8c",
   "metadata": {
    "ExecuteTime": {
     "end_time": "2023-03-13T15:56:26.747988Z",
     "start_time": "2023-03-13T15:56:26.733159Z"
    }
   },
   "outputs": [],
   "source": [
    "def same_seed(seed):\n",
    "    random.seed(seed) \n",
    "    np.random.seed(seed)  \n",
    "    torch.manual_seed(seed)\n",
    "    if torch.cuda.is_available():\n",
    "        torch.cuda.manual_seed(seed)\n",
    "        torch.cuda.manual_seed_all(seed) \n",
    "    torch.backends.cudnn.benchmark = False\n",
    "    torch.backends.cudnn.deterministic = True\n",
    "\n",
    "def train_valid_split(data_set, valid_ratio, seed):\n",
    "    '''Split provided training data into training set and validation set'''\n",
    "    valid_set_size = int(valid_ratio * len(data_set)) \n",
    "    train_set_size = len(data_set) - valid_set_size\n",
    "    train_set, valid_set = random_split(data_set, \n",
    "                                        [train_set_size, valid_set_size], \n",
    "                                        generator=torch.Generator().manual_seed(seed))\n",
    "    return np.array(train_set), np.array(valid_set)\n",
    "\n",
    "def caculate_acc(outputs, labels):\n",
    "    rightness = 0\n",
    "    a_word = outputs.size()[1] // 4\n",
    "    for output_row, label_row in zip(outputs, labels):\n",
    "        output_index = []\n",
    "        label_index = []\n",
    "        for start in range(0, outputs.size()[1], a_word):\n",
    "            output_index.append(torch.max(output_row[start:start + a_word], 0)[1].item())\n",
    "            label_index.append(torch.max(label_row[start:start + a_word], 0)[1].item())\n",
    "        if output_index == label_index:\n",
    "            rightness += 1\n",
    "    return rightness\n",
    "\n",
    "def preprocess(label_file, img_num, img_path, valid_ratio, seed):\n",
    "    labels = pd.read_csv(label_file).iloc[:, -1].values\n",
    "    captcha_list = ['2', '3', '4', '5', '6', '7', '8', '9', \n",
    "                    'A', 'C', 'D', 'E', 'F', 'G', 'H', 'K', \n",
    "                    'M', 'N', 'P', 'Q', 'R', 'T', 'V', 'W', 'Y', 'Z']\n",
    "    \n",
    "    all_labels = [] # Y\n",
    "    all_images = [] # X\n",
    "    for label in labels[0: img_num]:\n",
    "        one_hot = np.zeros([len(label) * len(captcha_list)], dtype=float)\n",
    "        for j, char in enumerate(label):\n",
    "            index = j * len(captcha_list) + captcha_list.index(char)\n",
    "            one_hot[index] = 1.0\n",
    "        all_labels.append(one_hot)\n",
    "        \n",
    "    for idx in range(1, img_num + 1):\n",
    "        # read image\n",
    "        img = cv2.imread(img_path + '/' + str(idx) + '.jpg')\n",
    "        img = cv2.cvtColor(img, cv2.COLOR_BGR2GRAY).reshape([1, 48, 144])\n",
    "        all_images.append(img)\n",
    "        \n",
    "    Y = np.array(all_labels) # Y.shape = [5000, 104]\n",
    "    X = np.array(all_images, dtype = float) # X.shape = [5000, 1, 48, 140]\n",
    "    X = X / 255 #standerlize\n",
    "    x_train, x_valid, y_train, y_valid = train_test_split(X, Y, test_size=valid_ratio, random_state=seed)\n",
    "    return x_train, x_valid, y_train, y_valid"
   ]
  },
  {
   "cell_type": "markdown",
   "id": "91d84af3",
   "metadata": {},
   "source": [
    "# Model"
   ]
  },
  {
   "cell_type": "code",
   "execution_count": 171,
   "id": "95fab7bf",
   "metadata": {
    "ExecuteTime": {
     "end_time": "2023-03-14T01:09:40.283679Z",
     "start_time": "2023-03-14T01:09:40.151107Z"
    }
   },
   "outputs": [
    {
     "name": "stdout",
     "output_type": "stream",
     "text": [
      "ConvNet(\n",
      "  (conv1): Conv2d(1, 8, kernel_size=(3, 3), stride=(1, 1), padding=(1, 1))\n",
      "  (pool1): MaxPool2d(kernel_size=2, stride=2, padding=0, dilation=1, ceil_mode=False)\n",
      "  (conv2): Conv2d(8, 8, kernel_size=(5, 5), stride=(1, 1), padding=(2, 2))\n",
      "  (pool2): MaxPool2d(kernel_size=2, stride=2, padding=0, dilation=1, ceil_mode=False)\n",
      "  (conv3): Conv2d(8, 32, kernel_size=(5, 5), stride=(1, 1), padding=(2, 2))\n",
      "  (pool3): MaxPool2d(kernel_size=2, stride=2, padding=0, dilation=1, ceil_mode=False)\n",
      "  (conv4): Conv2d(32, 128, kernel_size=(5, 5), stride=(1, 1), padding=(2, 2))\n",
      "  (fc1): Linear(in_features=13824, out_features=512, bias=True)\n",
      "  (fc2): Linear(in_features=512, out_features=104, bias=True)\n",
      ")\n",
      "----------------------------------------------------------------\n",
      "        Layer (type)               Output Shape         Param #\n",
      "================================================================\n",
      "            Conv2d-1            [1, 8, 48, 144]              80\n",
      "         MaxPool2d-2             [1, 8, 24, 72]               0\n",
      "            Conv2d-3             [1, 8, 24, 72]           1,608\n",
      "         MaxPool2d-4             [1, 8, 12, 36]               0\n",
      "            Conv2d-5            [1, 32, 12, 36]           6,432\n",
      "         MaxPool2d-6             [1, 32, 6, 18]               0\n",
      "            Conv2d-7            [1, 128, 6, 18]         102,528\n",
      "            Linear-8                   [1, 512]       7,078,400\n",
      "            Linear-9                   [1, 104]          53,352\n",
      "================================================================\n",
      "Total params: 7,242,400\n",
      "Trainable params: 7,242,400\n",
      "Non-trainable params: 0\n",
      "----------------------------------------------------------------\n",
      "Input size (MB): 0.03\n",
      "Forward/backward pass size (MB): 0.90\n",
      "Params size (MB): 27.63\n",
      "Estimated Total Size (MB): 28.56\n",
      "----------------------------------------------------------------\n"
     ]
    }
   ],
   "source": [
    "image_size  = [48, 144]  #圖像的總尺寸 48*140\n",
    "num_classes = 104 \n",
    "depth = [8, 8, 32, 128] \n",
    "\n",
    "class ConvNet(nn.Module):\n",
    "    # Constructor,  __init__ 是create要用的 layer objects (順序無關)\n",
    "    def __init__(self, ):\n",
    "        super(ConvNet, self).__init__()\n",
    "        self.conv1 = nn.Conv2d(1, depth[0], 3, padding = 1) \n",
    "        self.pool1 = nn.MaxPool2d(2, 2) \n",
    "        self.conv2 = nn.Conv2d(depth[0], depth[1], 5, padding = 2)\n",
    "        self.pool2 = nn.MaxPool2d(2, 2)\n",
    "        self.conv3 = nn.Conv2d(depth[1], depth[2], 5, padding = 2)\n",
    "        self.pool3 = nn.MaxPool2d(2, 2)\n",
    "        self.conv4 = nn.Conv2d(depth[2], depth[3], 5, padding = 2)\n",
    "        self.fc1 = nn.Linear(image_size[0]//8 * image_size[1]//8 * depth[3] , 512)\n",
    "        self.fc2 = nn.Linear(512, num_classes) \n",
    "        \n",
    "\n",
    "    def forward(self, x):\n",
    "        x = F.relu(self.conv1(x))\n",
    "        x = self.pool1(x)\n",
    "        x = F.relu(self.conv2(x))\n",
    "        x = self.pool2(x)\n",
    "        x = F.relu(self.conv3(x))\n",
    "        x = self.pool3(x)\n",
    "        x = F.relu(self.conv4(x))\n",
    "        x = x.view(-1, image_size[0]//8 * image_size[1]//8 * depth[3])\n",
    "        x = F.relu(self.fc1(x))\n",
    "        x = F.dropout(x, training=self.training) \n",
    "        x = self.fc2(x)\n",
    "        x = F.sigmoid(x)\n",
    "        return x\n",
    "\n",
    "    # Simulation the CNN for obtaining some features \n",
    "    # 將輸入 x, 分別做出 conv1 -> relu 第1層輸出\n",
    "    #          再做 pooling -> conv2 -> rely 第2層輸出\n",
    "    def retrieve_features(self, x):\n",
    "        # For 1 Conv layer\n",
    "        tempx1 = F.relu(self.conv1(x)) \n",
    "        # For 2 Conv layer\n",
    "        tempx2 = F.relu(self.conv2(self.pool1(tempx1)))\n",
    "        \n",
    "        tempx3 = F.relu(self.conv3(self.pool2(tempx2)))\n",
    "        # 把它從計算圖分離\n",
    "        tempx1 = tempx1.detach().cpu()\n",
    "        tempx2 = tempx2.detach().cpu()\n",
    "        tempx3 = tempx3.detach().cpu()\n",
    "        # if use_cuda: # 若有用 cuda, 轉回cpu, 後許才好處理\n",
    "           # tempx1 = tempx1.cpu()\n",
    "           # tempx2 = tempx2.cpu()           \n",
    "        return (tempx1, tempx2, tempx3)\n",
    "\n",
    "print(ConvNet())\n",
    "summary(ConvNet(), (1, 48, 144), 1, device='cpu')"
   ]
  },
  {
   "cell_type": "markdown",
   "id": "78fd8b58",
   "metadata": {},
   "source": [
    "# Dataset"
   ]
  },
  {
   "cell_type": "code",
   "execution_count": 122,
   "id": "ab546207",
   "metadata": {
    "ExecuteTime": {
     "end_time": "2023-03-13T15:56:28.464568Z",
     "start_time": "2023-03-13T15:56:28.458153Z"
    }
   },
   "outputs": [],
   "source": [
    "class CaptchaDataset(Dataset):\n",
    "    def __init__(self, X, y=None):\n",
    "        self.data = torch.FloatTensor(X)\n",
    "        if y is not None:\n",
    "            self.label = torch.FloatTensor(y)\n",
    "        else:\n",
    "            self.label = None\n",
    "\n",
    "    def __getitem__(self, idx):\n",
    "        if self.label is not None:\n",
    "            return self.data[idx], self.label[idx]\n",
    "        else:\n",
    "            return self.data[idx]\n",
    "\n",
    "    def __len__(self):\n",
    "        return len(self.data)"
   ]
  },
  {
   "cell_type": "markdown",
   "id": "ae25d2e7",
   "metadata": {},
   "source": [
    "# Dataloader"
   ]
  },
  {
   "cell_type": "code",
   "execution_count": 123,
   "id": "392f827b",
   "metadata": {
    "ExecuteTime": {
     "end_time": "2023-03-13T15:56:45.564210Z",
     "start_time": "2023-03-13T15:56:29.297481Z"
    }
   },
   "outputs": [],
   "source": [
    "same_seed(config['seed'])\n",
    "\n",
    "x_train, x_valid, y_train, y_valid = preprocess(label_file=config['labels'], \n",
    "                                                img_num=5000, img_path=config['processed_img_path'], \n",
    "                                                valid_ratio=config['valid_ratio'], \n",
    "                                                seed=config['seed'])\n",
    "train_dataset, valid_dataset = CaptchaDataset(x_train, y_train), CaptchaDataset(x_valid, y_valid)\n",
    "train_loader = DataLoader(train_dataset, batch_size=config['batch_size'], shuffle=True, pin_memory=True)\n",
    "valid_loader = DataLoader(valid_dataset, batch_size=config['batch_size'], shuffle=True, pin_memory=True)"
   ]
  },
  {
   "cell_type": "markdown",
   "id": "96645d7d",
   "metadata": {},
   "source": [
    "# Training"
   ]
  },
  {
   "cell_type": "code",
   "execution_count": 172,
   "id": "e4fe20b9",
   "metadata": {
    "ExecuteTime": {
     "end_time": "2023-03-14T01:29:02.159368Z",
     "start_time": "2023-03-14T01:10:01.876304Z"
    }
   },
   "outputs": [
    {
     "name": "stderr",
     "output_type": "stream",
     "text": [
      "100%|██████████| 80/80 [00:17<00:00,  4.70it/s]\n",
      "100%|██████████| 20/20 [00:01<00:00, 19.77it/s]\n"
     ]
    },
    {
     "name": "stdout",
     "output_type": "stream",
     "text": [
      "[001/200] Train Acc: 0.00000 Loss: 0.18542 | Val Acc: 0.00000 loss: 0.15222\n"
     ]
    },
    {
     "name": "stderr",
     "output_type": "stream",
     "text": [
      "100%|██████████| 80/80 [00:16<00:00,  4.75it/s]\n",
      "100%|██████████| 20/20 [00:01<00:00, 19.61it/s]\n"
     ]
    },
    {
     "name": "stdout",
     "output_type": "stream",
     "text": [
      "[002/200] Train Acc: 0.00000 Loss: 0.15583 | Val Acc: 0.00000 loss: 0.15136\n"
     ]
    },
    {
     "name": "stderr",
     "output_type": "stream",
     "text": [
      "100%|██████████| 80/80 [00:16<00:00,  4.77it/s]\n",
      "100%|██████████| 20/20 [00:00<00:00, 20.19it/s]\n"
     ]
    },
    {
     "name": "stdout",
     "output_type": "stream",
     "text": [
      "[003/200] Train Acc: 0.00000 Loss: 0.15117 | Val Acc: 0.00400 loss: 0.13728\n",
      "saving model with acc 0.00400\n"
     ]
    },
    {
     "name": "stderr",
     "output_type": "stream",
     "text": [
      "100%|██████████| 80/80 [00:16<00:00,  4.78it/s]\n",
      "100%|██████████| 20/20 [00:01<00:00, 19.62it/s]\n"
     ]
    },
    {
     "name": "stdout",
     "output_type": "stream",
     "text": [
      "[004/200] Train Acc: 0.01250 Loss: 0.11915 | Val Acc: 0.10200 loss: 0.09078\n",
      "saving model with acc 0.10200\n"
     ]
    },
    {
     "name": "stderr",
     "output_type": "stream",
     "text": [
      "100%|██████████| 80/80 [00:16<00:00,  4.74it/s]\n",
      "100%|██████████| 20/20 [00:01<00:00, 17.23it/s]\n"
     ]
    },
    {
     "name": "stdout",
     "output_type": "stream",
     "text": [
      "[005/200] Train Acc: 0.07225 Loss: 0.09249 | Val Acc: 0.23200 loss: 0.07150\n",
      "saving model with acc 0.23200\n"
     ]
    },
    {
     "name": "stderr",
     "output_type": "stream",
     "text": [
      "100%|██████████| 80/80 [00:16<00:00,  4.74it/s]\n",
      "100%|██████████| 20/20 [00:01<00:00, 19.10it/s]\n"
     ]
    },
    {
     "name": "stdout",
     "output_type": "stream",
     "text": [
      "[006/200] Train Acc: 0.17800 Loss: 0.07537 | Val Acc: 0.42100 loss: 0.05527\n",
      "saving model with acc 0.42100\n"
     ]
    },
    {
     "name": "stderr",
     "output_type": "stream",
     "text": [
      "100%|██████████| 80/80 [00:16<00:00,  4.76it/s]\n",
      "100%|██████████| 20/20 [00:01<00:00, 18.22it/s]\n"
     ]
    },
    {
     "name": "stdout",
     "output_type": "stream",
     "text": [
      "[007/200] Train Acc: 0.30000 Loss: 0.06079 | Val Acc: 0.57400 loss: 0.04414\n",
      "saving model with acc 0.57400\n"
     ]
    },
    {
     "name": "stderr",
     "output_type": "stream",
     "text": [
      "100%|██████████| 80/80 [00:17<00:00,  4.66it/s]\n",
      "100%|██████████| 20/20 [00:01<00:00, 15.38it/s]\n"
     ]
    },
    {
     "name": "stdout",
     "output_type": "stream",
     "text": [
      "[008/200] Train Acc: 0.43825 Loss: 0.04977 | Val Acc: 0.67700 loss: 0.03812\n",
      "saving model with acc 0.67700\n"
     ]
    },
    {
     "name": "stderr",
     "output_type": "stream",
     "text": [
      "100%|██████████| 80/80 [00:17<00:00,  4.60it/s]\n",
      "100%|██████████| 20/20 [00:01<00:00, 16.79it/s]\n"
     ]
    },
    {
     "name": "stdout",
     "output_type": "stream",
     "text": [
      "[009/200] Train Acc: 0.54725 Loss: 0.04161 | Val Acc: 0.76100 loss: 0.03090\n",
      "saving model with acc 0.76100\n"
     ]
    },
    {
     "name": "stderr",
     "output_type": "stream",
     "text": [
      "100%|██████████| 80/80 [00:16<00:00,  4.71it/s]\n",
      "100%|██████████| 20/20 [00:00<00:00, 20.05it/s]\n"
     ]
    },
    {
     "name": "stdout",
     "output_type": "stream",
     "text": [
      "[010/200] Train Acc: 0.64850 Loss: 0.03496 | Val Acc: 0.82400 loss: 0.02893\n",
      "saving model with acc 0.82400\n"
     ]
    },
    {
     "name": "stderr",
     "output_type": "stream",
     "text": [
      "100%|██████████| 80/80 [00:16<00:00,  4.76it/s]\n",
      "100%|██████████| 20/20 [00:01<00:00, 19.17it/s]\n"
     ]
    },
    {
     "name": "stdout",
     "output_type": "stream",
     "text": [
      "[011/200] Train Acc: 0.69250 Loss: 0.03058 | Val Acc: 0.84400 loss: 0.02519\n",
      "saving model with acc 0.84400\n"
     ]
    },
    {
     "name": "stderr",
     "output_type": "stream",
     "text": [
      "100%|██████████| 80/80 [00:16<00:00,  4.76it/s]\n",
      "100%|██████████| 20/20 [00:01<00:00, 17.43it/s]\n"
     ]
    },
    {
     "name": "stdout",
     "output_type": "stream",
     "text": [
      "[012/200] Train Acc: 0.75250 Loss: 0.02632 | Val Acc: 0.85700 loss: 0.02362\n",
      "saving model with acc 0.85700\n"
     ]
    },
    {
     "name": "stderr",
     "output_type": "stream",
     "text": [
      "100%|██████████| 80/80 [00:16<00:00,  4.80it/s]\n",
      "100%|██████████| 20/20 [00:01<00:00, 19.15it/s]\n"
     ]
    },
    {
     "name": "stdout",
     "output_type": "stream",
     "text": [
      "[013/200] Train Acc: 0.78575 Loss: 0.02383 | Val Acc: 0.89700 loss: 0.02131\n",
      "saving model with acc 0.89700\n"
     ]
    },
    {
     "name": "stderr",
     "output_type": "stream",
     "text": [
      "100%|██████████| 80/80 [00:16<00:00,  4.77it/s]\n",
      "100%|██████████| 20/20 [00:00<00:00, 20.28it/s]\n"
     ]
    },
    {
     "name": "stdout",
     "output_type": "stream",
     "text": [
      "[014/200] Train Acc: 0.82125 Loss: 0.02090 | Val Acc: 0.89500 loss: 0.02171\n"
     ]
    },
    {
     "name": "stderr",
     "output_type": "stream",
     "text": [
      "100%|██████████| 80/80 [00:17<00:00,  4.69it/s]\n",
      "100%|██████████| 20/20 [00:00<00:00, 20.72it/s]\n"
     ]
    },
    {
     "name": "stdout",
     "output_type": "stream",
     "text": [
      "[015/200] Train Acc: 0.84150 Loss: 0.01910 | Val Acc: 0.90600 loss: 0.01937\n",
      "saving model with acc 0.90600\n"
     ]
    },
    {
     "name": "stderr",
     "output_type": "stream",
     "text": [
      "100%|██████████| 80/80 [00:16<00:00,  4.77it/s]\n",
      "100%|██████████| 20/20 [00:00<00:00, 20.06it/s]\n"
     ]
    },
    {
     "name": "stdout",
     "output_type": "stream",
     "text": [
      "[016/200] Train Acc: 0.85225 Loss: 0.01815 | Val Acc: 0.90400 loss: 0.01944\n"
     ]
    },
    {
     "name": "stderr",
     "output_type": "stream",
     "text": [
      "100%|██████████| 80/80 [00:16<00:00,  4.78it/s]\n",
      "100%|██████████| 20/20 [00:01<00:00, 19.92it/s]\n"
     ]
    },
    {
     "name": "stdout",
     "output_type": "stream",
     "text": [
      "[017/200] Train Acc: 0.86675 Loss: 0.01648 | Val Acc: 0.91000 loss: 0.01995\n",
      "saving model with acc 0.91000\n"
     ]
    },
    {
     "name": "stderr",
     "output_type": "stream",
     "text": [
      "100%|██████████| 80/80 [00:16<00:00,  4.73it/s]\n",
      "100%|██████████| 20/20 [00:01<00:00, 18.05it/s]\n"
     ]
    },
    {
     "name": "stdout",
     "output_type": "stream",
     "text": [
      "[018/200] Train Acc: 0.88925 Loss: 0.01466 | Val Acc: 0.91700 loss: 0.01901\n",
      "saving model with acc 0.91700\n"
     ]
    },
    {
     "name": "stderr",
     "output_type": "stream",
     "text": [
      "100%|██████████| 80/80 [00:17<00:00,  4.70it/s]\n",
      "100%|██████████| 20/20 [00:01<00:00, 19.59it/s]\n"
     ]
    },
    {
     "name": "stdout",
     "output_type": "stream",
     "text": [
      "[019/200] Train Acc: 0.89975 Loss: 0.01403 | Val Acc: 0.91400 loss: 0.01952\n"
     ]
    },
    {
     "name": "stderr",
     "output_type": "stream",
     "text": [
      "100%|██████████| 80/80 [00:16<00:00,  4.75it/s]\n",
      "100%|██████████| 20/20 [00:01<00:00, 15.99it/s]\n"
     ]
    },
    {
     "name": "stdout",
     "output_type": "stream",
     "text": [
      "[020/200] Train Acc: 0.90875 Loss: 0.01321 | Val Acc: 0.92500 loss: 0.01996\n",
      "saving model with acc 0.92500\n"
     ]
    },
    {
     "name": "stderr",
     "output_type": "stream",
     "text": [
      "100%|██████████| 80/80 [00:16<00:00,  4.72it/s]\n",
      "100%|██████████| 20/20 [00:01<00:00, 16.91it/s]\n"
     ]
    },
    {
     "name": "stdout",
     "output_type": "stream",
     "text": [
      "[021/200] Train Acc: 0.91375 Loss: 0.01261 | Val Acc: 0.92500 loss: 0.02061\n"
     ]
    },
    {
     "name": "stderr",
     "output_type": "stream",
     "text": [
      "100%|██████████| 80/80 [00:16<00:00,  4.72it/s]\n",
      "100%|██████████| 20/20 [00:01<00:00, 17.68it/s]\n"
     ]
    },
    {
     "name": "stdout",
     "output_type": "stream",
     "text": [
      "[022/200] Train Acc: 0.91325 Loss: 0.01193 | Val Acc: 0.92900 loss: 0.01923\n",
      "saving model with acc 0.92900\n"
     ]
    },
    {
     "name": "stderr",
     "output_type": "stream",
     "text": [
      "100%|██████████| 80/80 [00:16<00:00,  4.71it/s]\n",
      "100%|██████████| 20/20 [00:01<00:00, 18.52it/s]\n"
     ]
    },
    {
     "name": "stdout",
     "output_type": "stream",
     "text": [
      "[023/200] Train Acc: 0.92550 Loss: 0.01142 | Val Acc: 0.91400 loss: 0.02127\n"
     ]
    },
    {
     "name": "stderr",
     "output_type": "stream",
     "text": [
      "100%|██████████| 80/80 [00:16<00:00,  4.75it/s]\n",
      "100%|██████████| 20/20 [00:01<00:00, 19.62it/s]\n"
     ]
    },
    {
     "name": "stdout",
     "output_type": "stream",
     "text": [
      "[024/200] Train Acc: 0.92025 Loss: 0.01141 | Val Acc: 0.92600 loss: 0.01940\n"
     ]
    },
    {
     "name": "stderr",
     "output_type": "stream",
     "text": [
      "100%|██████████| 80/80 [00:17<00:00,  4.57it/s]\n",
      "100%|██████████| 20/20 [00:01<00:00, 19.56it/s]\n"
     ]
    },
    {
     "name": "stdout",
     "output_type": "stream",
     "text": [
      "[025/200] Train Acc: 0.92825 Loss: 0.01109 | Val Acc: 0.93700 loss: 0.01896\n",
      "saving model with acc 0.93700\n"
     ]
    },
    {
     "name": "stderr",
     "output_type": "stream",
     "text": [
      "100%|██████████| 80/80 [00:16<00:00,  4.72it/s]\n",
      "100%|██████████| 20/20 [00:01<00:00, 17.26it/s]\n"
     ]
    },
    {
     "name": "stdout",
     "output_type": "stream",
     "text": [
      "[026/200] Train Acc: 0.93825 Loss: 0.01022 | Val Acc: 0.93700 loss: 0.01900\n"
     ]
    },
    {
     "name": "stderr",
     "output_type": "stream",
     "text": [
      "100%|██████████| 80/80 [00:16<00:00,  4.73it/s]\n",
      "100%|██████████| 20/20 [00:01<00:00, 18.10it/s]\n"
     ]
    },
    {
     "name": "stdout",
     "output_type": "stream",
     "text": [
      "[027/200] Train Acc: 0.94175 Loss: 0.00956 | Val Acc: 0.93000 loss: 0.01938\n"
     ]
    },
    {
     "name": "stderr",
     "output_type": "stream",
     "text": [
      "100%|██████████| 80/80 [00:17<00:00,  4.70it/s]\n",
      "100%|██████████| 20/20 [00:01<00:00, 18.29it/s]\n"
     ]
    },
    {
     "name": "stdout",
     "output_type": "stream",
     "text": [
      "[028/200] Train Acc: 0.94075 Loss: 0.00950 | Val Acc: 0.93500 loss: 0.01969\n"
     ]
    },
    {
     "name": "stderr",
     "output_type": "stream",
     "text": [
      "100%|██████████| 80/80 [00:16<00:00,  4.76it/s]\n",
      "100%|██████████| 20/20 [00:01<00:00, 19.73it/s]\n"
     ]
    },
    {
     "name": "stdout",
     "output_type": "stream",
     "text": [
      "[029/200] Train Acc: 0.95625 Loss: 0.00862 | Val Acc: 0.93200 loss: 0.02017\n"
     ]
    },
    {
     "name": "stderr",
     "output_type": "stream",
     "text": [
      "100%|██████████| 80/80 [00:16<00:00,  4.77it/s]\n",
      "100%|██████████| 20/20 [00:01<00:00, 18.21it/s]\n"
     ]
    },
    {
     "name": "stdout",
     "output_type": "stream",
     "text": [
      "[030/200] Train Acc: 0.95625 Loss: 0.00848 | Val Acc: 0.93500 loss: 0.01946\n"
     ]
    },
    {
     "name": "stderr",
     "output_type": "stream",
     "text": [
      "100%|██████████| 80/80 [00:16<00:00,  4.76it/s]\n",
      "100%|██████████| 20/20 [00:01<00:00, 17.74it/s]\n"
     ]
    },
    {
     "name": "stdout",
     "output_type": "stream",
     "text": [
      "[031/200] Train Acc: 0.94950 Loss: 0.00842 | Val Acc: 0.94600 loss: 0.01974\n",
      "saving model with acc 0.94600\n"
     ]
    },
    {
     "name": "stderr",
     "output_type": "stream",
     "text": [
      "100%|██████████| 80/80 [00:17<00:00,  4.69it/s]\n",
      "100%|██████████| 20/20 [00:01<00:00, 18.90it/s]\n"
     ]
    },
    {
     "name": "stdout",
     "output_type": "stream",
     "text": [
      "[032/200] Train Acc: 0.95950 Loss: 0.00804 | Val Acc: 0.94500 loss: 0.02002\n"
     ]
    },
    {
     "name": "stderr",
     "output_type": "stream",
     "text": [
      "100%|██████████| 80/80 [00:16<00:00,  4.74it/s]\n",
      "100%|██████████| 20/20 [00:01<00:00, 18.72it/s]\n"
     ]
    },
    {
     "name": "stdout",
     "output_type": "stream",
     "text": [
      "[033/200] Train Acc: 0.95925 Loss: 0.00779 | Val Acc: 0.94200 loss: 0.02111\n"
     ]
    },
    {
     "name": "stderr",
     "output_type": "stream",
     "text": [
      "100%|██████████| 80/80 [00:16<00:00,  4.75it/s]\n",
      "100%|██████████| 20/20 [00:01<00:00, 19.37it/s]\n"
     ]
    },
    {
     "name": "stdout",
     "output_type": "stream",
     "text": [
      "[034/200] Train Acc: 0.95575 Loss: 0.00798 | Val Acc: 0.94000 loss: 0.01945\n"
     ]
    },
    {
     "name": "stderr",
     "output_type": "stream",
     "text": [
      "100%|██████████| 80/80 [00:17<00:00,  4.70it/s]\n",
      "100%|██████████| 20/20 [00:01<00:00, 16.95it/s]\n"
     ]
    },
    {
     "name": "stdout",
     "output_type": "stream",
     "text": [
      "[035/200] Train Acc: 0.96075 Loss: 0.00730 | Val Acc: 0.94500 loss: 0.01930\n"
     ]
    },
    {
     "name": "stderr",
     "output_type": "stream",
     "text": [
      "100%|██████████| 80/80 [00:16<00:00,  4.75it/s]\n",
      "100%|██████████| 20/20 [00:01<00:00, 19.39it/s]\n"
     ]
    },
    {
     "name": "stdout",
     "output_type": "stream",
     "text": [
      "[036/200] Train Acc: 0.96125 Loss: 0.00703 | Val Acc: 0.94500 loss: 0.01958\n"
     ]
    },
    {
     "name": "stderr",
     "output_type": "stream",
     "text": [
      "100%|██████████| 80/80 [00:16<00:00,  4.76it/s]\n",
      "100%|██████████| 20/20 [00:01<00:00, 19.70it/s]\n"
     ]
    },
    {
     "name": "stdout",
     "output_type": "stream",
     "text": [
      "[037/200] Train Acc: 0.96225 Loss: 0.00700 | Val Acc: 0.95200 loss: 0.01988\n",
      "saving model with acc 0.95200\n"
     ]
    },
    {
     "name": "stderr",
     "output_type": "stream",
     "text": [
      "100%|██████████| 80/80 [00:16<00:00,  4.73it/s]\n",
      "100%|██████████| 20/20 [00:00<00:00, 20.32it/s]\n"
     ]
    },
    {
     "name": "stdout",
     "output_type": "stream",
     "text": [
      "[038/200] Train Acc: 0.96800 Loss: 0.00653 | Val Acc: 0.94800 loss: 0.01901\n"
     ]
    },
    {
     "name": "stderr",
     "output_type": "stream",
     "text": [
      "100%|██████████| 80/80 [00:16<00:00,  4.72it/s]\n",
      "100%|██████████| 20/20 [00:00<00:00, 20.65it/s]\n"
     ]
    },
    {
     "name": "stdout",
     "output_type": "stream",
     "text": [
      "[039/200] Train Acc: 0.96775 Loss: 0.00660 | Val Acc: 0.95400 loss: 0.02026\n",
      "saving model with acc 0.95400\n"
     ]
    },
    {
     "name": "stderr",
     "output_type": "stream",
     "text": [
      "100%|██████████| 80/80 [00:16<00:00,  4.72it/s]\n",
      "100%|██████████| 20/20 [00:01<00:00, 18.78it/s]\n"
     ]
    },
    {
     "name": "stdout",
     "output_type": "stream",
     "text": [
      "[040/200] Train Acc: 0.96675 Loss: 0.00653 | Val Acc: 0.95600 loss: 0.01821\n",
      "saving model with acc 0.95600\n"
     ]
    },
    {
     "name": "stderr",
     "output_type": "stream",
     "text": [
      "100%|██████████| 80/80 [00:16<00:00,  4.76it/s]\n",
      "100%|██████████| 20/20 [00:01<00:00, 17.78it/s]\n"
     ]
    },
    {
     "name": "stdout",
     "output_type": "stream",
     "text": [
      "[041/200] Train Acc: 0.97100 Loss: 0.00621 | Val Acc: 0.96000 loss: 0.01905\n",
      "saving model with acc 0.96000\n"
     ]
    },
    {
     "name": "stderr",
     "output_type": "stream",
     "text": [
      "100%|██████████| 80/80 [00:16<00:00,  4.74it/s]\n",
      "100%|██████████| 20/20 [00:01<00:00, 20.00it/s]\n"
     ]
    },
    {
     "name": "stdout",
     "output_type": "stream",
     "text": [
      "[042/200] Train Acc: 0.97125 Loss: 0.00625 | Val Acc: 0.96100 loss: 0.01929\n",
      "saving model with acc 0.96100\n"
     ]
    },
    {
     "name": "stderr",
     "output_type": "stream",
     "text": [
      "100%|██████████| 80/80 [00:16<00:00,  4.75it/s]\n",
      "100%|██████████| 20/20 [00:01<00:00, 17.29it/s]\n"
     ]
    },
    {
     "name": "stdout",
     "output_type": "stream",
     "text": [
      "[043/200] Train Acc: 0.97500 Loss: 0.00548 | Val Acc: 0.96000 loss: 0.01921\n"
     ]
    },
    {
     "name": "stderr",
     "output_type": "stream",
     "text": [
      "100%|██████████| 80/80 [00:16<00:00,  4.73it/s]\n",
      "100%|██████████| 20/20 [00:01<00:00, 19.40it/s]\n"
     ]
    },
    {
     "name": "stdout",
     "output_type": "stream",
     "text": [
      "[044/200] Train Acc: 0.97525 Loss: 0.00576 | Val Acc: 0.95600 loss: 0.01966\n"
     ]
    },
    {
     "name": "stderr",
     "output_type": "stream",
     "text": [
      "100%|██████████| 80/80 [00:17<00:00,  4.70it/s]\n",
      "100%|██████████| 20/20 [00:01<00:00, 19.34it/s]\n"
     ]
    },
    {
     "name": "stdout",
     "output_type": "stream",
     "text": [
      "[045/200] Train Acc: 0.97425 Loss: 0.00576 | Val Acc: 0.95900 loss: 0.01875\n"
     ]
    },
    {
     "name": "stderr",
     "output_type": "stream",
     "text": [
      "100%|██████████| 80/80 [00:16<00:00,  4.74it/s]\n",
      "100%|██████████| 20/20 [00:01<00:00, 19.69it/s]\n"
     ]
    },
    {
     "name": "stdout",
     "output_type": "stream",
     "text": [
      "[046/200] Train Acc: 0.97350 Loss: 0.00566 | Val Acc: 0.95700 loss: 0.01899\n"
     ]
    },
    {
     "name": "stderr",
     "output_type": "stream",
     "text": [
      "100%|██████████| 80/80 [00:16<00:00,  4.75it/s]\n",
      "100%|██████████| 20/20 [00:01<00:00, 19.11it/s]\n"
     ]
    },
    {
     "name": "stdout",
     "output_type": "stream",
     "text": [
      "[047/200] Train Acc: 0.97400 Loss: 0.00558 | Val Acc: 0.95900 loss: 0.01877\n"
     ]
    },
    {
     "name": "stderr",
     "output_type": "stream",
     "text": [
      "100%|██████████| 80/80 [00:17<00:00,  4.64it/s]\n",
      "100%|██████████| 20/20 [00:01<00:00, 18.54it/s]\n"
     ]
    },
    {
     "name": "stdout",
     "output_type": "stream",
     "text": [
      "[048/200] Train Acc: 0.97625 Loss: 0.00544 | Val Acc: 0.96200 loss: 0.01870\n",
      "saving model with acc 0.96200\n"
     ]
    },
    {
     "name": "stderr",
     "output_type": "stream",
     "text": [
      "100%|██████████| 80/80 [00:16<00:00,  4.74it/s]\n",
      "100%|██████████| 20/20 [00:01<00:00, 18.56it/s]\n"
     ]
    },
    {
     "name": "stdout",
     "output_type": "stream",
     "text": [
      "[049/200] Train Acc: 0.97350 Loss: 0.00570 | Val Acc: 0.95900 loss: 0.01903\n"
     ]
    },
    {
     "name": "stderr",
     "output_type": "stream",
     "text": [
      "100%|██████████| 80/80 [00:16<00:00,  4.71it/s]\n",
      "100%|██████████| 20/20 [00:01<00:00, 18.82it/s]\n"
     ]
    },
    {
     "name": "stdout",
     "output_type": "stream",
     "text": [
      "[050/200] Train Acc: 0.97875 Loss: 0.00538 | Val Acc: 0.96200 loss: 0.01966\n"
     ]
    },
    {
     "name": "stderr",
     "output_type": "stream",
     "text": [
      "100%|██████████| 80/80 [00:17<00:00,  4.69it/s]\n",
      "100%|██████████| 20/20 [00:01<00:00, 15.06it/s]\n"
     ]
    },
    {
     "name": "stdout",
     "output_type": "stream",
     "text": [
      "[051/200] Train Acc: 0.97300 Loss: 0.00525 | Val Acc: 0.95800 loss: 0.01975\n"
     ]
    },
    {
     "name": "stderr",
     "output_type": "stream",
     "text": [
      "100%|██████████| 80/80 [00:17<00:00,  4.70it/s]\n",
      "100%|██████████| 20/20 [00:01<00:00, 18.56it/s]\n"
     ]
    },
    {
     "name": "stdout",
     "output_type": "stream",
     "text": [
      "[052/200] Train Acc: 0.98350 Loss: 0.00487 | Val Acc: 0.95800 loss: 0.02067\n"
     ]
    },
    {
     "name": "stderr",
     "output_type": "stream",
     "text": [
      "100%|██████████| 80/80 [00:17<00:00,  4.70it/s]\n",
      "100%|██████████| 20/20 [00:01<00:00, 16.63it/s]\n"
     ]
    },
    {
     "name": "stdout",
     "output_type": "stream",
     "text": [
      "[053/200] Train Acc: 0.98000 Loss: 0.00476 | Val Acc: 0.96700 loss: 0.01941\n",
      "saving model with acc 0.96700\n"
     ]
    },
    {
     "name": "stderr",
     "output_type": "stream",
     "text": [
      "100%|██████████| 80/80 [00:16<00:00,  4.74it/s]\n",
      "100%|██████████| 20/20 [00:01<00:00, 17.77it/s]\n"
     ]
    },
    {
     "name": "stdout",
     "output_type": "stream",
     "text": [
      "[054/200] Train Acc: 0.98150 Loss: 0.00505 | Val Acc: 0.95900 loss: 0.02012\n"
     ]
    },
    {
     "name": "stderr",
     "output_type": "stream",
     "text": [
      "100%|██████████| 80/80 [00:17<00:00,  4.68it/s]\n",
      "100%|██████████| 20/20 [00:01<00:00, 19.88it/s]\n"
     ]
    },
    {
     "name": "stdout",
     "output_type": "stream",
     "text": [
      "[055/200] Train Acc: 0.98100 Loss: 0.00455 | Val Acc: 0.96200 loss: 0.01958\n"
     ]
    },
    {
     "name": "stderr",
     "output_type": "stream",
     "text": [
      "100%|██████████| 80/80 [00:16<00:00,  4.75it/s]\n",
      "100%|██████████| 20/20 [00:01<00:00, 19.09it/s]\n"
     ]
    },
    {
     "name": "stdout",
     "output_type": "stream",
     "text": [
      "[056/200] Train Acc: 0.98150 Loss: 0.00477 | Val Acc: 0.96200 loss: 0.02064\n"
     ]
    },
    {
     "name": "stderr",
     "output_type": "stream",
     "text": [
      "100%|██████████| 80/80 [00:16<00:00,  4.74it/s]\n",
      "100%|██████████| 20/20 [00:01<00:00, 19.11it/s]\n"
     ]
    },
    {
     "name": "stdout",
     "output_type": "stream",
     "text": [
      "[057/200] Train Acc: 0.98450 Loss: 0.00449 | Val Acc: 0.96200 loss: 0.02104\n"
     ]
    },
    {
     "name": "stderr",
     "output_type": "stream",
     "text": [
      "100%|██████████| 80/80 [00:17<00:00,  4.67it/s]\n",
      "100%|██████████| 20/20 [00:01<00:00, 16.63it/s]\n"
     ]
    },
    {
     "name": "stdout",
     "output_type": "stream",
     "text": [
      "[058/200] Train Acc: 0.98350 Loss: 0.00428 | Val Acc: 0.96700 loss: 0.02096\n"
     ]
    },
    {
     "name": "stderr",
     "output_type": "stream",
     "text": [
      "100%|██████████| 80/80 [00:16<00:00,  4.74it/s]\n",
      "100%|██████████| 20/20 [00:01<00:00, 17.54it/s]\n"
     ]
    },
    {
     "name": "stdout",
     "output_type": "stream",
     "text": [
      "[059/200] Train Acc: 0.98475 Loss: 0.00428 | Val Acc: 0.96700 loss: 0.02047\n"
     ]
    },
    {
     "name": "stderr",
     "output_type": "stream",
     "text": [
      "100%|██████████| 80/80 [00:16<00:00,  4.78it/s]\n",
      "100%|██████████| 20/20 [00:01<00:00, 18.02it/s]\n"
     ]
    },
    {
     "name": "stdout",
     "output_type": "stream",
     "text": [
      "[060/200] Train Acc: 0.98850 Loss: 0.00414 | Val Acc: 0.96700 loss: 0.02014\n"
     ]
    },
    {
     "name": "stderr",
     "output_type": "stream",
     "text": [
      "100%|██████████| 80/80 [00:17<00:00,  4.70it/s]\n",
      "100%|██████████| 20/20 [00:01<00:00, 15.32it/s]\n"
     ]
    },
    {
     "name": "stdout",
     "output_type": "stream",
     "text": [
      "[061/200] Train Acc: 0.98350 Loss: 0.00417 | Val Acc: 0.96700 loss: 0.02030\n"
     ]
    },
    {
     "name": "stderr",
     "output_type": "stream",
     "text": [
      "100%|██████████| 80/80 [00:16<00:00,  4.72it/s]\n",
      "100%|██████████| 20/20 [00:01<00:00, 18.92it/s]\n"
     ]
    },
    {
     "name": "stdout",
     "output_type": "stream",
     "text": [
      "[062/200] Train Acc: 0.98200 Loss: 0.00428 | Val Acc: 0.96500 loss: 0.01976\n"
     ]
    },
    {
     "name": "stderr",
     "output_type": "stream",
     "text": [
      "100%|██████████| 80/80 [00:16<00:00,  4.76it/s]\n",
      "100%|██████████| 20/20 [00:01<00:00, 20.00it/s]"
     ]
    },
    {
     "name": "stdout",
     "output_type": "stream",
     "text": [
      "[063/200] Train Acc: 0.98350 Loss: 0.00407 | Val Acc: 0.96500 loss: 0.02124\n",
      "\n",
      "Model is not improving, so we halt the training session.\n"
     ]
    },
    {
     "name": "stderr",
     "output_type": "stream",
     "text": [
      "\n"
     ]
    }
   ],
   "source": [
    "model = ConvNet().to(device) \n",
    "criterion = nn.BCELoss()\n",
    "# optimizer = torch.optim.SGD(model.parameters(), lr=0.001, momentum=0.9)\n",
    "optimizer = torch.optim.Adam(model.parameters(), lr=config['learning_rate'])\n",
    "\n",
    "n_epochs, best_loss, step, early_stop_count = config['n_epochs'], math.inf, 0, 0\n",
    "writer = SummaryWriter()\n",
    "if not os.path.exists('model'):\n",
    "    os.mkdir('model')\n",
    "\n",
    "best_acc = 0.0\n",
    "for epoch in range(config['n_epochs']):\n",
    "    train_acc = 0.0\n",
    "    train_loss_record = []\n",
    "    val_acc = 0.0\n",
    "    val_loss_record = []\n",
    "    \n",
    "    # training\n",
    "    model.train() # set the model to training mode\n",
    "    for i, batch in enumerate(tqdm(train_loader)):\n",
    "        features, labels = batch\n",
    "        features = features.to(device)\n",
    "        labels = labels.to(device)\n",
    "        \n",
    "        optimizer.zero_grad() \n",
    "        outputs = model(features) \n",
    "        \n",
    "        loss = criterion(outputs, labels)\n",
    "        loss.backward() \n",
    "        optimizer.step()\n",
    "        step += 1\n",
    "        \n",
    "        train_acc += caculate_acc(outputs, labels)\n",
    "        train_loss_record.append(loss.item())\n",
    "    mean_train_loss = sum(train_loss_record) / len(train_loss_record)\n",
    "    # writer.add_scalar('Loss/train', mean_train_loss, epoch)\n",
    "\n",
    "    # validation\n",
    "    model.eval() # set the model to evaluation mode\n",
    "    with torch.no_grad():\n",
    "        for i, batch in enumerate(tqdm(valid_loader)):\n",
    "            features, labels = batch\n",
    "            features = features.to(device)\n",
    "            labels = labels.to(device)\n",
    "            outputs = model(features)\n",
    "            \n",
    "            loss = criterion(outputs, labels) \n",
    "            \n",
    "            val_acc += caculate_acc(outputs, labels)\n",
    "            val_loss_record.append(loss.item())\n",
    "        mean_valid_loss = sum(val_loss_record) / len(val_loss_record)\n",
    "        writer.add_scalars('Loss', {'train': mean_train_loss, 'valid': mean_valid_loss}, epoch)\n",
    "        \n",
    "    print(f'[{epoch+1:03d}/{n_epochs:03d}] Train Acc: {train_acc/len(train_dataset):3.5f} Loss: {mean_train_loss:3.5f} | Val Acc: {val_acc/len(valid_dataset):3.5f} loss: {mean_valid_loss:3.5f}')\n",
    "\n",
    "    # if the model improves, save a checkpoint at this epoch\n",
    "    if val_acc > best_acc:\n",
    "        best_acc = val_acc\n",
    "        torch.save(model.state_dict(), config['save_path'])\n",
    "        print(f'saving model with acc {best_acc/len(valid_dataset):.5f}')\n",
    "        early_stop_count = 0\n",
    "    else: \n",
    "        early_stop_count += 1\n",
    "    if early_stop_count >= config['early_stop']:\n",
    "        print('\\nModel is not improving, so we halt the training session.')\n",
    "        break"
   ]
  },
  {
   "cell_type": "code",
   "execution_count": 173,
   "id": "d168162c",
   "metadata": {
    "ExecuteTime": {
     "end_time": "2023-03-14T01:30:07.353719Z",
     "start_time": "2023-03-14T01:30:07.271624Z"
    }
   },
   "outputs": [
    {
     "data": {
      "text/plain": [
       "Reusing TensorBoard on port 6006 (pid 3280), started 1 day, 12:57:49 ago. (Use '!kill 3280' to kill it.)"
      ]
     },
     "metadata": {},
     "output_type": "display_data"
    },
    {
     "data": {
      "text/html": [
       "\n",
       "      <iframe id=\"tensorboard-frame-6da20e005556c175\" width=\"100%\" height=\"800\" frameborder=\"0\">\n",
       "      </iframe>\n",
       "      <script>\n",
       "        (function() {\n",
       "          const frame = document.getElementById(\"tensorboard-frame-6da20e005556c175\");\n",
       "          const url = new URL(\"/\", window.location);\n",
       "          const port = 6006;\n",
       "          if (port) {\n",
       "            url.port = port;\n",
       "          }\n",
       "          frame.src = url;\n",
       "        })();\n",
       "      </script>\n",
       "    "
      ],
      "text/plain": [
       "<IPython.core.display.HTML object>"
      ]
     },
     "metadata": {},
     "output_type": "display_data"
    }
   ],
   "source": [
    "%reload_ext tensorboard\n",
    "%tensorboard --logdir=./runs/"
   ]
  },
  {
   "cell_type": "code",
   "execution_count": 178,
   "id": "bc73730f",
   "metadata": {
    "ExecuteTime": {
     "end_time": "2023-03-14T01:30:55.365731Z",
     "start_time": "2023-03-14T01:30:54.532624Z"
    }
   },
   "outputs": [
    {
     "data": {
      "text/plain": [
       "\"\\n# 5.2.3 Draw the 8 feature maps by conv3\\nplt.figure(figsize = (10, 32))\\n#plt.suptitle('The image processed by conv3 (128 filters)')\\nfor i1 in range(128):\\n    plt.subplot(32,4,i1 + 1)\\n    plt.axis('off')\\n    plt.imshow(feature_maps[2][0, i1])\\n\""
      ]
     },
     "execution_count": 178,
     "metadata": {},
     "output_type": "execute_result"
    },
    {
     "data": {
      "image/png": "[encoded data removed]",
      "text/plain": [
       "<Figure size 640x480 with 1 Axes>"
      ]
     },
     "metadata": {},
     "output_type": "display_data"
    },
    {
     "data": {
      "image/png": "[encoded data removed]",
      "text/plain": [
       "<Figure size 1000x200 with 8 Axes>"
      ]
     },
     "metadata": {},
     "output_type": "display_data"
    },
    {
     "data": {
      "image/png": "[encoded data removed]",
      "text/plain": [
       "<Figure size 1000x200 with 8 Axes>"
      ]
     },
     "metadata": {},
     "output_type": "display_data"
    }
   ],
   "source": [
    "idx = 500\n",
    "\n",
    "# img_path = config['processed_img_path']\n",
    "img_path =r'./test_images'\n",
    "img = cv2.imread(img_path + '/' + str(idx) + '.jpg')\n",
    "plt.figure()\n",
    "plt.title('raw_image')\n",
    "plt.imshow(img)\n",
    "img = cv2.cvtColor(img, cv2.COLOR_BGR2GRAY).reshape([1, 48, 144])\n",
    "x = img.reshape([1, 1, 48, 144])\n",
    "\n",
    "\n",
    "\n",
    "# x = X_test[idx].reshape([1, 1, 48, 140])\n",
    "input_x = torch.tensor(x, dtype = torch.float).to(device)\n",
    "feature_maps = model.retrieve_features(input_x)\n",
    "\n",
    "\n",
    "plt.figure(figsize = (10, 2))\n",
    "\n",
    "for i1 in range(8):\n",
    "    plt.subplot(2,4,i1 + 1)\n",
    "    plt.axis('off')\n",
    "    plt.imshow(feature_maps[0][0, i1])\n",
    "\n",
    "# 5.2.2 Draw the 8 feature maps by conv2\n",
    "plt.figure(figsize = (10, 2))\n",
    "#plt.suptitle('The image processed by conv2 (32 filters)')\n",
    "for i1 in range(8):\n",
    "    plt.subplot(2,4,i1 + 1)\n",
    "    plt.axis('off')\n",
    "    plt.imshow(feature_maps[1][0, i1])\n",
    "\n",
    "'''\n",
    "# 5.2.3 Draw the 8 feature maps by conv3\n",
    "plt.figure(figsize = (10, 32))\n",
    "#plt.suptitle('The image processed by conv3 (128 filters)')\n",
    "for i1 in range(128):\n",
    "    plt.subplot(32,4,i1 + 1)\n",
    "    plt.axis('off')\n",
    "    plt.imshow(feature_maps[2][0, i1])\n",
    "'''"
   ]
  },
  {
   "cell_type": "code",
   "execution_count": 179,
   "id": "45f79483",
   "metadata": {
    "ExecuteTime": {
     "end_time": "2023-03-14T01:30:58.083678Z",
     "start_time": "2023-03-14T01:30:58.056513Z"
    }
   },
   "outputs": [
    {
     "name": "stdout",
     "output_type": "stream",
     "text": [
      "The code is: 2NQT\n"
     ]
    }
   ],
   "source": [
    "captcha_list = ['2', '3', '4', '5', '6', '7', '8', '9', 'A', 'C', 'D', 'E', 'F', 'G', 'H', 'K', 'M', 'N', 'P', 'Q', 'R', 'T', 'V', 'W', 'Y', 'Z']\n",
    "model.eval()\n",
    "a = model(input_x)\n",
    "guess_idx = []\n",
    "for start in range(0, 104, 26):\n",
    "    end = start + 26\n",
    "    if end >= 104:\n",
    "        end = 104\n",
    "    guess_idx.append(torch.max(a[:,start:end], 1)[1] + start)\n",
    "code = ''\n",
    "for i, arow in enumerate(guess_idx):\n",
    "    code += str(captcha_list[int(arow.item()) - (i * 26)])\n",
    "print(\"The code is:\", code)  "
   ]
  },
  {
   "cell_type": "code",
   "execution_count": null,
   "id": "6f80afc8",
   "metadata": {},
   "outputs": [],
   "source": []
  }
 ],
 "metadata": {
  "kernelspec": {
   "display_name": "Python 3 (ipykernel)",
   "language": "python",
   "name": "python3"
  },
  "language_info": {
   "codemirror_mode": {
    "name": "ipython",
    "version": 3
   },
   "file_extension": ".py",
   "mimetype": "text/x-python",
   "name": "python",
   "nbconvert_exporter": "python",
   "pygments_lexer": "ipython3",
   "version": "3.9.16"
  },
  "toc": {
   "base_numbering": 1,
   "nav_menu": {
    "height": "219.989px",
    "width": "163.991px"
   },
   "number_sections": true,
   "sideBar": true,
   "skip_h1_title": false,
   "title_cell": "Table of Contents",
   "title_sidebar": "Contents",
   "toc_cell": false,
   "toc_position": {
    "height": "calc(100% - 180px)",
    "left": "10px",
    "top": "150px",
    "width": "202.018px"
   },
   "toc_section_display": true,
   "toc_window_display": false
  },
  "varInspector": {
   "cols": {
    "lenName": 16,
    "lenType": 16,
    "lenVar": 40
   },
   "kernels_config": {
    "python": {
     "delete_cmd_postfix": "",
     "delete_cmd_prefix": "del ",
     "library": "var_list.py",
     "varRefreshCmd": "print(var_dic_list())"
    },
    "r": {
     "delete_cmd_postfix": ") ",
     "delete_cmd_prefix": "rm(",
     "library": "var_list.r",
     "varRefreshCmd": "cat(var_dic_list()) "
    }
   },
   "types_to_exclude": [
    "module",
    "function",
    "builtin_function_or_method",
    "instance",
    "_Feature"
   ],
   "window_display": false
  }
 },
 "nbformat": 4,
 "nbformat_minor": 5
}

{
 "cells": [
  {
   "cell_type": "code",
   "execution_count": 1,
   "id": "531234c2",
   "metadata": {
    "ExecuteTime": {
     "end_time": "2023-03-16T16:14:00.118492Z",
     "start_time": "2023-03-16T16:13:58.661932Z"
    }
   },
   "outputs": [],
   "source": [
    "import os\n",
    "import cv2\n",
    "import matplotlib.pyplot as plt\n",
    "from tqdm import tqdm\n",
    "import numpy as np\n",
    "from sklearn.linear_model import LinearRegression\n",
    "from sklearn.preprocessing import PolynomialFeatures"
   ]
  },
  {
   "cell_type": "code",
   "execution_count": 3,
   "id": "47197a5a",
   "metadata": {
    "ExecuteTime": {
     "end_time": "2023-03-16T16:21:54.212795Z",
     "start_time": "2023-03-16T16:15:03.657672Z"
    }
   },
   "outputs": [
    {
     "name": "stderr",
     "output_type": "stream",
     "text": [
      "100%|██████████| 5000/5000 [06:50<00:00, 12.18it/s]\n"
     ]
    }
   ],
   "source": [
    "img_num = 5000\n",
    "preprocess_img_path = './raw_images'\n",
    "processed_img_path = './processed_images'\n",
    "\n",
    "if not os.path.exists(\"processed_images\"):\n",
    "    os.mkdir(\"processed_images\")\n",
    "\n",
    "for idx in tqdm(range(1, img_num+1)):\n",
    "    raw_img = cv2.imread(preprocess_img_path + '/' + str(idx) + '.jpg')\n",
    "\n",
    "    raw_img = cv2.resize(raw_img, (144, 48), interpolation=cv2.INTER_CUBIC)\n",
    "    clear_img = cv2.fastNlMeansDenoisingColored(raw_img, None, 30, 30, 7, 21)\n",
    "\n",
    "    ret, thresh = cv2.threshold(clear_img, 127, 255, cv2.THRESH_BINARY_INV)\n",
    "    image = cv2.cvtColor(thresh, cv2.COLOR_BGR2GRAY)\n",
    "    image_copy = image.copy()\n",
    "\n",
    "    image_copy[:, 13:-5] = 0\n",
    "    axis_y, axis_x = np.where(image_copy == 255)\n",
    "\n",
    "    x1_s = np.array([axis_x])\n",
    "    y1_s = 48 - axis_y\n",
    "    poly_reg = PolynomialFeatures(degree=2)\n",
    "    x1_t = poly_reg.fit_transform(x1_s.T)\n",
    "    lr = LinearRegression()\n",
    "    lr.fit(x1_t, y1_s)\n",
    "    x2_s = np.array([[i for i in range(0, 140)]])\n",
    "    x2_t = poly_reg.fit_transform(x2_s.T)\n",
    "    for x, y in np.column_stack([lr.predict(x2_t).round(0), x2_s[0]]):\n",
    "        pos = 48 - int(x)\n",
    "        image[pos-3:pos+3, int(y)] = 255 - image[pos-3:pos+3, int(y)]\n",
    "\n",
    "    cv2.imwrite(processed_img_path + '/' + str(idx) + '.jpg', image)"
   ]
  }
 ],
 "metadata": {
  "kernelspec": {
   "display_name": "Python 3 (ipykernel)",
   "language": "python",
   "name": "python3"
  },
  "language_info": {
   "codemirror_mode": {
    "name": "ipython",
    "version": 3
   },
   "file_extension": ".py",
   "mimetype": "text/x-python",
   "name": "python",
   "nbconvert_exporter": "python",
   "pygments_lexer": "ipython3",
   "version": "3.9.16"
  },
  "toc": {
   "base_numbering": 1,
   "nav_menu": {},
   "number_sections": true,
   "sideBar": false,
   "skip_h1_title": false,
   "title_cell": "Table of Contents",
   "title_sidebar": "Contents",
   "toc_cell": false,
   "toc_position": {},
   "toc_section_display": true,
   "toc_window_display": false
  },
  "varInspector": {
   "cols": {
    "lenName": 16,
    "lenType": 16,
    "lenVar": 40
   },
   "kernels_config": {
    "python": {
     "delete_cmd_postfix": "",
     "delete_cmd_prefix": "del ",
     "library": "var_list.py",
     "varRefreshCmd": "print(var_dic_list())"
    },
    "r": {
     "delete_cmd_postfix": ") ",
     "delete_cmd_prefix": "rm(",
     "library": "var_list.r",
     "varRefreshCmd": "cat(var_dic_list()) "
    }
   },
   "types_to_exclude": [
    "module",
    "function",
    "builtin_function_or_method",
    "instance",
    "_Feature"
   ],
   "window_display": false
  }
 },
 "nbformat": 4,
 "nbformat_minor": 5
}

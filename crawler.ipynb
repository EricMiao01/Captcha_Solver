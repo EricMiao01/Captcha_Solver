{
 "cells": [
  {
   "cell_type": "markdown",
   "id": "4ad75a5d",
   "metadata": {},
   "source": [
    "# Import Package"
   ]
  },
  {
   "cell_type": "code",
   "execution_count": null,
   "id": "ec01a832",
   "metadata": {},
   "outputs": [],
   "source": [
    "import time\n",
    "import random\n",
    "import os\n",
    "import requests\n",
    "from bs4 import BeautifulSoup"
   ]
  },
  {
   "cell_type": "markdown",
   "id": "b61008b3",
   "metadata": {},
   "source": [
    "# THSRC Image Downloader"
   ]
  },
  {
   "cell_type": "code",
   "execution_count": 1,
   "id": "5ffa8599",
   "metadata": {
    "ExecuteTime": {
     "end_time": "2023-03-13T05:18:24.171439Z",
     "start_time": "2023-03-13T05:18:24.151738Z"
    }
   },
   "outputs": [],
   "source": [
    "class THSRCImageDownloader:\n",
    "    def __init__(self, url, download_path):\n",
    "        self.url = url\n",
    "        self.download_path = download_path\n",
    "        self.headers = { \n",
    "            \"Accept\": \"text/html,application/xhtml+xml,application/xml;q=0.9,image/avif,image/webp,image/apng,*/*;q=0.8,application/signed-exchange;v=b3;q=0.9\",\n",
    "            \"Accept-Encoding\": \"gzip, deflate, br\",\n",
    "            \"Accept-Language\": \"zh-TW,zh;q=0.9,en-US;q=0.8,en;q=0.7\",\n",
    "            \"Cache-Control\": \"max-age=0\",\n",
    "            \"Connection\": \"keep-alive\",\n",
    "            \"Host\": \"irs.thsrc.com.tw\",\n",
    "            \"sec-ch-ua-mobile\": \"?0\",\n",
    "            \"sec-ch-ua-platform\": \"Windows\",\n",
    "            \"Sec-Fetch-Dest\": \"document\",\n",
    "            \"Sec-Fetch-Mode\": \"navigate\",\n",
    "            \"Sec-Fetch-Site\": \"none\",\n",
    "            \"Sec-Fetch-User\": \"?1\",\n",
    "            \"Upgrade-Insecure-Requests\": \"1\",\n",
    "            \"User-Agent\": \"Mozilla/5.0 (Windows NT 10.0; Win64; x64) AppleWebKit/537.36 (KHTML, like Gecko) Chrome/108.0.0.0 Safari/537.36\"\n",
    "        }\n",
    "        \n",
    "        if not os.path.exists(download_path):\n",
    "            os.mkdir(download_path)\n",
    "    \n",
    "    def get_validation_code_link(self):\n",
    "        r = requests.get(self.url, timeout=5, headers=self.headers)\n",
    "        if r.status_code != requests.codes.ok:\n",
    "            print(\"CAN NOT LOADING\")\n",
    "            return []\n",
    "        soup = BeautifulSoup(r.text, 'html.parser')\n",
    "        attr = {\"class\": \"captcha-img\"}\n",
    "        img_tags = soup.find_all('img', attrs=attr)\n",
    "        for tag in img_tags:\n",
    "            link_str = self.url + tag[\"src\"][6:]\n",
    "            print(link_str)\n",
    "        return link_str\n",
    "    \n",
    "    def download_img(self, img_index, link):\n",
    "        img = requests.get(link, headers=self.headers)\n",
    "        img = img.content\n",
    "        with open(self.download_path + str(img_index) + '.jpg', 'wb') as pic_out:\n",
    "            pic_out.write(img)\n",
    "\n",
    "        print('img_index:', img_index, 'OK!')"
   ]
  },
  {
   "cell_type": "markdown",
   "id": "6fc91b15",
   "metadata": {},
   "source": [
    "# Batch Downloader"
   ]
  },
  {
   "cell_type": "code",
   "execution_count": null,
   "id": "dd2b4a32",
   "metadata": {},
   "outputs": [],
   "source": [
    "class THSRCImageBatchDownloader(THSRCImageDownloader):\n",
    "    def __init__(self, url, download_path, img_num):\n",
    "        super().__init__(url, download_path)\n",
    "        self.img_num = img_num\n",
    "        \n",
    "    def download_images(self):\n",
    "        for i in range(1, self.img_num + 1):\n",
    "            time.sleep(random.randint(1, 2))\n",
    "            link = self.get_validation_code_link()\n",
    "            self.download_img(i, link)"
   ]
  },
  {
   "cell_type": "markdown",
   "id": "26b2e789",
   "metadata": {},
   "source": [
    "# Run"
   ]
  },
  {
   "cell_type": "code",
   "execution_count": null,
   "id": "77c8d1e0",
   "metadata": {},
   "outputs": [],
   "source": [
    "url = 'http://irs.thsrc.com.tw/IMINT/'\n",
    "download_path = \"\"\n",
    "img_num = 5000\n",
    "\n",
    "batch_downloader = THSRCImageBatchDownloader(url, download_path, img_num)\n",
    "batch_downloader.download_images()"
   ]
  }
 ],
 "metadata": {
  "kernelspec": {
   "display_name": "Python 3 (ipykernel)",
   "language": "python",
   "name": "python3"
  },
  "language_info": {
   "codemirror_mode": {
    "name": "ipython",
    "version": 3
   },
   "file_extension": ".py",
   "mimetype": "text/x-python",
   "name": "python",
   "nbconvert_exporter": "python",
   "pygments_lexer": "ipython3",
   "version": "3.9.16"
  },
  "toc": {
   "base_numbering": 1,
   "nav_menu": {},
   "number_sections": true,
   "sideBar": false,
   "skip_h1_title": false,
   "title_cell": "Table of Contents",
   "title_sidebar": "Contents",
   "toc_cell": false,
   "toc_position": {},
   "toc_section_display": true,
   "toc_window_display": false
  },
  "varInspector": {
   "cols": {
    "lenName": 16,
    "lenType": 16,
    "lenVar": 40
   },
   "kernels_config": {
    "python": {
     "delete_cmd_postfix": "",
     "delete_cmd_prefix": "del ",
     "library": "var_list.py",
     "varRefreshCmd": "print(var_dic_list())"
    },
    "r": {
     "delete_cmd_postfix": ") ",
     "delete_cmd_prefix": "rm(",
     "library": "var_list.r",
     "varRefreshCmd": "cat(var_dic_list()) "
    }
   },
   "types_to_exclude": [
    "module",
    "function",
    "builtin_function_or_method",
    "instance",
    "_Feature"
   ],
   "window_display": false
  }
 },
 "nbformat": 4,
 "nbformat_minor": 5
}
